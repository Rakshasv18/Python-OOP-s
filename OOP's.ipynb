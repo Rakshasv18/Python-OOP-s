{
 "cells": [
  {
   "cell_type": "markdown",
   "id": "04331a2b",
   "metadata": {},
   "source": [
    "## Python OOP's \n",
    "\n",
    "* OOP's Tutorial Link *: (https://realpython.com/python3-object-oriented-programming/#how-to-define-a-class)*\n"
   ]
  },
  {
   "cell_type": "code",
   "execution_count": 1,
   "id": "48fce5a8",
   "metadata": {
    "ExecuteTime": {
     "end_time": "2022-09-18T03:04:35.500742Z",
     "start_time": "2022-09-18T03:04:35.483107Z"
    }
   },
   "outputs": [],
   "source": [
    "#Define a Class in Python :\n",
    "#All class definitions start with the class keyword, which is followed by the name of the class and a colon.\n",
    "\n",
    "class Dog:\n",
    "    def __init__(self, name, age):\n",
    "        self.name = name\n",
    "        self.age = age"
   ]
  },
  {
   "cell_type": "markdown",
   "id": "8eaafde0",
   "metadata": {
    "ExecuteTime": {
     "end_time": "2022-09-18T03:03:44.584208Z",
     "start_time": "2022-09-18T03:03:44.575687Z"
    }
   },
   "source": [
    "* Classes vs Instances\n",
    "* While the class is the blueprint, an instance is an object that is built from a class and contains real data"
   ]
  },
  {
   "cell_type": "code",
   "execution_count": 2,
   "id": "d08ba7a2",
   "metadata": {
    "ExecuteTime": {
     "end_time": "2022-09-18T03:04:56.782992Z",
     "start_time": "2022-09-18T03:04:56.777121Z"
    }
   },
   "outputs": [],
   "source": [
    "#Instantiate an Object in Python\n",
    "# Example : Dog class has a class attribute called species with the value \"Canis familiaris\":\n",
    "\n",
    "class Dog:\n",
    "    species = \"Canis familiaris\"    #class attribute\n",
    "    def __init__(self, name, age):\n",
    "        self.name = name\n",
    "        self.age = age"
   ]
  },
  {
   "cell_type": "code",
   "execution_count": 3,
   "id": "4b7aee07",
   "metadata": {
    "ExecuteTime": {
     "end_time": "2022-09-18T03:04:58.166251Z",
     "start_time": "2022-09-18T03:04:58.161888Z"
    }
   },
   "outputs": [],
   "source": [
    "#Class and Instance Attributes\n",
    "\n",
    "buddy = Dog(\"Buddy\", 10)\n",
    "miles = Dog(\"Miles\", 12)\n"
   ]
  },
  {
   "cell_type": "markdown",
   "id": "8befc423",
   "metadata": {},
   "source": [
    "* The Dog instances, can be accessed by instance attributes using dot notation"
   ]
  },
  {
   "cell_type": "code",
   "execution_count": 4,
   "id": "46e81551",
   "metadata": {
    "ExecuteTime": {
     "end_time": "2022-09-18T03:04:58.541785Z",
     "start_time": "2022-09-18T03:04:58.526073Z"
    }
   },
   "outputs": [
    {
     "data": {
      "text/plain": [
       "'Buddy'"
      ]
     },
     "execution_count": 4,
     "metadata": {},
     "output_type": "execute_result"
    }
   ],
   "source": [
    "buddy.name"
   ]
  },
  {
   "cell_type": "code",
   "execution_count": 5,
   "id": "383b52d9",
   "metadata": {
    "ExecuteTime": {
     "end_time": "2022-09-18T03:04:58.971840Z",
     "start_time": "2022-09-18T03:04:58.965264Z"
    }
   },
   "outputs": [
    {
     "data": {
      "text/plain": [
       "10"
      ]
     },
     "execution_count": 5,
     "metadata": {},
     "output_type": "execute_result"
    }
   ],
   "source": [
    "buddy.age"
   ]
  },
  {
   "cell_type": "code",
   "execution_count": 6,
   "id": "94d00fd6",
   "metadata": {
    "ExecuteTime": {
     "end_time": "2022-09-18T03:04:59.389182Z",
     "start_time": "2022-09-18T03:04:59.381798Z"
    }
   },
   "outputs": [
    {
     "data": {
      "text/plain": [
       "'Miles'"
      ]
     },
     "execution_count": 6,
     "metadata": {},
     "output_type": "execute_result"
    }
   ],
   "source": [
    "miles.name"
   ]
  },
  {
   "cell_type": "code",
   "execution_count": 7,
   "id": "66849861",
   "metadata": {
    "ExecuteTime": {
     "end_time": "2022-09-18T03:05:00.242797Z",
     "start_time": "2022-09-18T03:05:00.237079Z"
    }
   },
   "outputs": [
    {
     "data": {
      "text/plain": [
       "12"
      ]
     },
     "execution_count": 7,
     "metadata": {},
     "output_type": "execute_result"
    }
   ],
   "source": [
    "miles.age"
   ]
  },
  {
   "cell_type": "code",
   "execution_count": 8,
   "id": "b2341225",
   "metadata": {
    "ExecuteTime": {
     "end_time": "2022-09-18T03:05:00.787646Z",
     "start_time": "2022-09-18T03:05:00.781096Z"
    }
   },
   "outputs": [
    {
     "data": {
      "text/plain": [
       "'Canis familiaris'"
      ]
     },
     "execution_count": 8,
     "metadata": {},
     "output_type": "execute_result"
    }
   ],
   "source": [
    "buddy.species"
   ]
  },
  {
   "cell_type": "code",
   "execution_count": 9,
   "id": "b496d21c",
   "metadata": {
    "ExecuteTime": {
     "end_time": "2022-09-18T03:05:09.391980Z",
     "start_time": "2022-09-18T03:05:09.383433Z"
    }
   },
   "outputs": [],
   "source": [
    "#Instance Methods\n",
    "#Instance methods are functions that are defined inside a class and can only be called from an instance of that class\n",
    "\n",
    "class Dog:\n",
    "    species = \"Canis familiaris\"    #class attribute\n",
    "    def __init__(self, name, age):\n",
    "        self.name = name\n",
    "        self.age = age\n",
    "        \n",
    "    def description(self):\n",
    "        return f\"{self.name} is {self.age} years old\"\n",
    "    \n",
    "    def speak(self,sound):\n",
    "        return f\"{self.name} says {sound}\"\n"
   ]
  },
  {
   "cell_type": "code",
   "execution_count": 12,
   "id": "ac323fd3",
   "metadata": {
    "ExecuteTime": {
     "end_time": "2022-09-18T03:05:33.802093Z",
     "start_time": "2022-09-18T03:05:33.798052Z"
    }
   },
   "outputs": [],
   "source": [
    "miles = Dog(\"Miles\", 12)"
   ]
  },
  {
   "cell_type": "code",
   "execution_count": 13,
   "id": "af2bdbc7",
   "metadata": {
    "ExecuteTime": {
     "end_time": "2022-09-18T03:05:34.126293Z",
     "start_time": "2022-09-18T03:05:34.118749Z"
    }
   },
   "outputs": [
    {
     "data": {
      "text/plain": [
       "'Miles is 12 years old'"
      ]
     },
     "execution_count": 13,
     "metadata": {},
     "output_type": "execute_result"
    }
   ],
   "source": [
    "miles.description()"
   ]
  },
  {
   "cell_type": "code",
   "execution_count": 14,
   "id": "c14fb768",
   "metadata": {
    "ExecuteTime": {
     "end_time": "2022-09-18T03:05:35.046584Z",
     "start_time": "2022-09-18T03:05:35.040623Z"
    }
   },
   "outputs": [
    {
     "data": {
      "text/plain": [
       "'Miles says woof'"
      ]
     },
     "execution_count": 14,
     "metadata": {},
     "output_type": "execute_result"
    }
   ],
   "source": [
    "miles.speak(\"woof\")"
   ]
  },
  {
   "cell_type": "code",
   "execution_count": 15,
   "id": "aaa65729",
   "metadata": {
    "ExecuteTime": {
     "end_time": "2022-09-18T03:05:35.982290Z",
     "start_time": "2022-09-18T03:05:35.977606Z"
    }
   },
   "outputs": [
    {
     "name": "stdout",
     "output_type": "stream",
     "text": [
      "<__main__.Dog object at 0x7f8f30096990>\n"
     ]
    }
   ],
   "source": [
    "print(miles)"
   ]
  },
  {
   "cell_type": "code",
   "execution_count": 16,
   "id": "ef40fe11",
   "metadata": {
    "ExecuteTime": {
     "end_time": "2022-09-18T03:06:05.904487Z",
     "start_time": "2022-09-18T03:06:05.899254Z"
    }
   },
   "outputs": [],
   "source": [
    "#example to specify class attributes \n",
    "class Dog:\n",
    "    species = \"Canis familiaris\"    #class attribute\n",
    "    def __init__(self, name, age):\n",
    "        self.name = name\n",
    "        self.age = age\n",
    "        \n",
    "    def __str__(self):\n",
    "        return f\"{self.name} is {self.age} years old\""
   ]
  },
  {
   "cell_type": "code",
   "execution_count": 18,
   "id": "429e5826",
   "metadata": {
    "ExecuteTime": {
     "end_time": "2022-09-18T03:06:44.204265Z",
     "start_time": "2022-09-18T03:06:44.200254Z"
    }
   },
   "outputs": [],
   "source": [
    "miles = Dog(\"Miles\", 12)"
   ]
  },
  {
   "cell_type": "code",
   "execution_count": 19,
   "id": "62b0b29b",
   "metadata": {
    "ExecuteTime": {
     "end_time": "2022-09-18T03:06:44.860648Z",
     "start_time": "2022-09-18T03:06:44.856487Z"
    }
   },
   "outputs": [
    {
     "name": "stdout",
     "output_type": "stream",
     "text": [
      "Miles is 12 years old\n"
     ]
    }
   ],
   "source": [
    "print(miles)"
   ]
  },
  {
   "cell_type": "code",
   "execution_count": 20,
   "id": "7b461238",
   "metadata": {
    "ExecuteTime": {
     "end_time": "2022-09-18T03:06:52.096612Z",
     "start_time": "2022-09-18T03:06:52.090047Z"
    }
   },
   "outputs": [],
   "source": [
    "#Parent Classes vs Child Classes:\n",
    "\n",
    "class Dog:\n",
    "    species = \"Canis familiaris\"\n",
    "\n",
    "    def __init__(self, name, age):\n",
    "        self.name = name\n",
    "        self.age = age\n",
    "\n",
    "    def __str__(self):\n",
    "        return f\"{self.name} is {self.age} years old\"\n",
    "\n",
    "    def speak(self, sound):\n",
    "        return f\"{self.name} says {sound}\"\n"
   ]
  },
  {
   "cell_type": "code",
   "execution_count": 21,
   "id": "6f4161cc",
   "metadata": {
    "ExecuteTime": {
     "end_time": "2022-09-18T03:06:52.494916Z",
     "start_time": "2022-09-18T03:06:52.489315Z"
    }
   },
   "outputs": [],
   "source": [
    "#create a child class, you create new class with its own \n",
    "# name and then put the name of the parent class in parentheses\n",
    "class JackRussellTerrier(Dog):\n",
    "    pass\n",
    "\n",
    "class Dachshund(Dog):\n",
    "    pass\n",
    "\n",
    "class Bulldog(Dog):\n",
    "    pass"
   ]
  },
  {
   "cell_type": "code",
   "execution_count": 22,
   "id": "2d4fc854",
   "metadata": {
    "ExecuteTime": {
     "end_time": "2022-09-18T03:06:53.189635Z",
     "start_time": "2022-09-18T03:06:53.185962Z"
    }
   },
   "outputs": [],
   "source": [
    "jack = Bulldog(\"Jack\", 3)"
   ]
  },
  {
   "cell_type": "code",
   "execution_count": 23,
   "id": "52d2f20f",
   "metadata": {
    "ExecuteTime": {
     "end_time": "2022-09-18T03:06:53.750096Z",
     "start_time": "2022-09-18T03:06:53.744026Z"
    }
   },
   "outputs": [
    {
     "data": {
      "text/plain": [
       "'Jack says woof'"
      ]
     },
     "execution_count": 23,
     "metadata": {},
     "output_type": "execute_result"
    }
   ],
   "source": [
    "jack.speak(\"woof\")"
   ]
  },
  {
   "cell_type": "code",
   "execution_count": 24,
   "id": "86c42f61",
   "metadata": {
    "ExecuteTime": {
     "end_time": "2022-09-18T03:06:54.253635Z",
     "start_time": "2022-09-18T03:06:54.245569Z"
    }
   },
   "outputs": [
    {
     "data": {
      "text/plain": [
       "True"
      ]
     },
     "execution_count": 24,
     "metadata": {},
     "output_type": "execute_result"
    }
   ],
   "source": [
    "isinstance(jack, Dog)"
   ]
  },
  {
   "cell_type": "markdown",
   "id": "f53ec7cc",
   "metadata": {
    "ExecuteTime": {
     "end_time": "2022-09-18T03:06:54.591715Z",
     "start_time": "2022-09-18T03:06:54.588055Z"
    }
   },
   "source": [
    "## Extend the Functionality of a Parent Class"
   ]
  },
  {
   "cell_type": "code",
   "execution_count": 26,
   "id": "177b1424",
   "metadata": {
    "ExecuteTime": {
     "end_time": "2022-09-18T03:06:54.897120Z",
     "start_time": "2022-09-18T03:06:54.892582Z"
    }
   },
   "outputs": [],
   "source": [
    "#create a child class having attribute as parent class\n",
    "class JackRussellTerrier(Dog):\n",
    "    def speak(self, sound=\"Arf\"):\n",
    "        return f\"{self.name} says {sound}\""
   ]
  },
  {
   "cell_type": "code",
   "execution_count": 27,
   "id": "fdaf1cc6",
   "metadata": {
    "ExecuteTime": {
     "end_time": "2022-09-18T03:06:55.244893Z",
     "start_time": "2022-09-18T03:06:55.240729Z"
    }
   },
   "outputs": [],
   "source": [
    "bug = JackRussellTerrier(\"Buggy\",4)"
   ]
  },
  {
   "cell_type": "code",
   "execution_count": 28,
   "id": "9fa37168",
   "metadata": {
    "ExecuteTime": {
     "end_time": "2022-09-18T03:06:57.480096Z",
     "start_time": "2022-09-18T03:06:57.474362Z"
    }
   },
   "outputs": [
    {
     "data": {
      "text/plain": [
       "'Buggy says Arf'"
      ]
     },
     "execution_count": 28,
     "metadata": {},
     "output_type": "execute_result"
    }
   ],
   "source": [
    "bug.speak()"
   ]
  },
  {
   "cell_type": "code",
   "execution_count": 29,
   "id": "1f741057",
   "metadata": {
    "ExecuteTime": {
     "end_time": "2022-09-18T03:06:58.449852Z",
     "start_time": "2022-09-18T03:06:58.443212Z"
    }
   },
   "outputs": [],
   "source": [
    "#One thing to keep in mind about class inheritance is that changes to the parent class automatically propagate to child classes.\n",
    "#This occurs as long as the attribute or method being changed isn’t overridden in the child class. \n",
    "#Example\n",
    "class Dog:\n",
    "    species = \"Canis familiaris\"\n",
    "\n",
    "    def __init__(self, name, age):\n",
    "        self.name = name\n",
    "        self.age = age\n",
    "\n",
    "    def __str__(self):\n",
    "        return f\"{self.name} is {self.age} years old\"\n",
    "\n",
    "    # Change the string returned by .speak()\n",
    "    def speak(self, sound):\n",
    "        return f\"{self.name} barks: {sound}\"\n",
    "    "
   ]
  },
  {
   "cell_type": "code",
   "execution_count": 30,
   "id": "b0f79a50",
   "metadata": {
    "ExecuteTime": {
     "end_time": "2022-09-18T03:06:59.023491Z",
     "start_time": "2022-09-18T03:06:59.019744Z"
    }
   },
   "outputs": [],
   "source": [
    "class Bulldog(Dog):       #child class\n",
    "    pass"
   ]
  },
  {
   "cell_type": "code",
   "execution_count": 31,
   "id": "396e9551",
   "metadata": {
    "ExecuteTime": {
     "end_time": "2022-09-18T03:07:01.521445Z",
     "start_time": "2022-09-18T03:07:01.515444Z"
    }
   },
   "outputs": [],
   "source": [
    "jim = Bulldog(\"Jim\", 5)\n"
   ]
  },
  {
   "cell_type": "code",
   "execution_count": 32,
   "id": "7e6a256f",
   "metadata": {
    "ExecuteTime": {
     "end_time": "2022-09-18T03:07:01.926311Z",
     "start_time": "2022-09-18T03:07:01.917334Z"
    }
   },
   "outputs": [
    {
     "data": {
      "text/plain": [
       "'Jim barks: woof'"
      ]
     },
     "execution_count": 32,
     "metadata": {},
     "output_type": "execute_result"
    }
   ],
   "source": [
    "jim.speak(\"woof\")"
   ]
  },
  {
   "cell_type": "code",
   "execution_count": 33,
   "id": "a194f579",
   "metadata": {
    "ExecuteTime": {
     "end_time": "2022-09-18T03:07:02.304202Z",
     "start_time": "2022-09-18T03:07:02.298067Z"
    }
   },
   "outputs": [],
   "source": [
    "class JackRussellTerrier(Dog):        #chlid class\n",
    "    def speak(self, sound=\"Arf\"):\n",
    "        return super().speak(sound)"
   ]
  },
  {
   "cell_type": "code",
   "execution_count": 34,
   "id": "832d102f",
   "metadata": {
    "ExecuteTime": {
     "end_time": "2022-09-18T03:07:02.673821Z",
     "start_time": "2022-09-18T03:07:02.668456Z"
    }
   },
   "outputs": [],
   "source": [
    "jacky = JackRussellTerrier(\"Jacky\",8)"
   ]
  },
  {
   "cell_type": "code",
   "execution_count": 35,
   "id": "60400b61",
   "metadata": {
    "ExecuteTime": {
     "end_time": "2022-09-18T03:07:03.085672Z",
     "start_time": "2022-09-18T03:07:03.079802Z"
    }
   },
   "outputs": [
    {
     "data": {
      "text/plain": [
       "'Jacky barks: Arf'"
      ]
     },
     "execution_count": 35,
     "metadata": {},
     "output_type": "execute_result"
    }
   ],
   "source": [
    "jacky.speak()"
   ]
  }
 ],
 "metadata": {
  "kernelspec": {
   "display_name": "Python 3 (ipykernel)",
   "language": "python",
   "name": "python3"
  },
  "language_info": {
   "codemirror_mode": {
    "name": "ipython",
    "version": 3
   },
   "file_extension": ".py",
   "mimetype": "text/x-python",
   "name": "python",
   "nbconvert_exporter": "python",
   "pygments_lexer": "ipython3",
   "version": "3.7.13"
  },
  "toc": {
   "base_numbering": 1,
   "nav_menu": {},
   "number_sections": true,
   "sideBar": true,
   "skip_h1_title": false,
   "title_cell": "Table of Contents",
   "title_sidebar": "Contents",
   "toc_cell": false,
   "toc_position": {},
   "toc_section_display": true,
   "toc_window_display": false
  }
 },
 "nbformat": 4,
 "nbformat_minor": 5
}
